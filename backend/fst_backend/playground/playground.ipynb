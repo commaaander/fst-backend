{
 "cells": [
  {
   "cell_type": "code",
   "execution_count": 37,
   "metadata": {},
   "outputs": [
    {
     "name": "stdout",
     "output_type": "stream",
     "text": [
      "month must be in 1..12\n",
      "date_str='1234-56-78' -> 1234-56-78\n",
      "\n",
      "day is out of range for month\n",
      "date_str='1234-12' -> 1234-12-00\n",
      "\n",
      "date_str='12-31' -> 0000-12-31\n",
      "\n",
      "day is out of range for month\n",
      "date_str='1234-5-78' -> 1234-05-78\n",
      "\n",
      "month must be in 1..12\n",
      "date_str='' -> 0000-00-00\n",
      "\n",
      "day is out of range for month\n",
      "date_str='2023-02-29' -> 2023-02-29\n",
      "\n",
      "Invalid date format, valid formats are: YYYY-MM-DD, YYYY-MM or MM-DD\n",
      "'NoneType' object cannot be interpreted as an integer\n",
      "date_str='1234-a' -> 0000-00-00\n",
      "\n",
      "date_str='2023-11-06' -> 2023-11-06\n",
      "\n"
     ]
    }
   ],
   "source": [
    "import re\n",
    "from datetime import date\n",
    "\n",
    "class PartialDate:\n",
    "    def __init__(self, date_str):\n",
    "        self.date_str = date_str\n",
    "        self.year = None\n",
    "        self.month = None\n",
    "        self.day = None\n",
    "        self.parse_date_str()\n",
    "\n",
    "    def parse_date_str(self):\n",
    "        pattern = r\"^(((?P<year>\\d{4})-)?(?P<month>\\d{1,2})-?(?P<day>\\d{,2}))?$\"\n",
    "        \n",
    "        try:\n",
    "            match = re.match(pattern, self.date_str)\n",
    "            for attr in [\"year\", \"month\", \"day\"]:\n",
    "                value = match.groupdict().get(attr) or 0\n",
    "                setattr(self, attr, int(value))\n",
    "        except:\n",
    "            print(\"Invalid date format, valid formats are: YYYY-MM-DD, YYYY-MM or MM-DD\")\n",
    "        \n",
    "        \n",
    "        try:\n",
    "            date(year=self.year or 2000, month=self.month, day=self.day)\n",
    "        except Exception as e:\n",
    "            print(e)\n",
    "\n",
    "    def __str__(self):\n",
    "        try:\n",
    "            ret_val = \"{:04d}-{:02d}-{:02d}\".format(self.year or 0, self.month or 0, self.day or 0)\n",
    "        except:\n",
    "            ret_val = f\"ERROR: {self.year=} {self.month=} {self.day=}\"\n",
    "        return ret_val\n",
    "\n",
    "    \n",
    "\n",
    "for date_str in [\"1234-56-78\",\"1234-12\",\"12-31\",\"1234-5-78\",\"\", \"2023-02-29\", \"1234-a\", \"2023-11-06\"]:\n",
    "    pd = PartialDate(date_str)\n",
    "    print(f\"{date_str=} -> {pd}\\n\")"
   ]
  }
 ],
 "metadata": {
  "kernelspec": {
   "display_name": ".venv",
   "language": "python",
   "name": "python3"
  },
  "language_info": {
   "codemirror_mode": {
    "name": "ipython",
    "version": 3
   },
   "file_extension": ".py",
   "mimetype": "text/x-python",
   "name": "python",
   "nbconvert_exporter": "python",
   "pygments_lexer": "ipython3",
   "version": "3.11.5"
  }
 },
 "nbformat": 4,
 "nbformat_minor": 2
}
