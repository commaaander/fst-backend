{
 "cells": [
  {
   "cell_type": "code",
   "execution_count": 3,
   "metadata": {},
   "outputs": [
    {
     "name": "stdout",
     "output_type": "stream",
     "text": [
      "Frießleben, -- Annika\n"
     ]
    }
   ],
   "source": [
    "class Person:\n",
    "    firstname = \"\"\n",
    "    middlename= \"\"\n",
    "    lastname = \"\"\n",
    "    def __str__(self) -> str:\n",
    "        return (\n",
    "            f\"{self.lastname}, \"\n",
    "            f\"{self.middlename} \"\n",
    "            f\"{self.firstname if self.firstname else ''}\"\n",
    "        )\n",
    "\n",
    "person = Person()\n",
    "person.firstname = \"Annika\"\n",
    "person.lastname = \"Frießleben\"\n",
    "\n",
    "print(person)\n"
   ]
  }
 ],
 "metadata": {
  "kernelspec": {
   "display_name": ".venv",
   "language": "python",
   "name": "python3"
  },
  "language_info": {
   "codemirror_mode": {
    "name": "ipython",
    "version": 3
   },
   "file_extension": ".py",
   "mimetype": "text/x-python",
   "name": "python",
   "nbconvert_exporter": "python",
   "pygments_lexer": "ipython3",
   "version": "3.11.5"
  }
 },
 "nbformat": 4,
 "nbformat_minor": 2
}
